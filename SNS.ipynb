{
 "cells": [
  {
   "cell_type": "code",
   "execution_count": 3,
   "id": "6f40b11d-d697-4e04-880e-7130e1636770",
   "metadata": {},
   "outputs": [],
   "source": [
    "import pandas as pd"
   ]
  },
  {
   "cell_type": "code",
   "execution_count": 5,
   "id": "4fb551fd-566c-46bc-bfa6-0713a5c8f46c",
   "metadata": {},
   "outputs": [],
   "source": [
    "import numpy as np"
   ]
  },
  {
   "cell_type": "code",
   "execution_count": 37,
   "id": "e4828382-8e0c-4ddd-84dc-a760b218b421",
   "metadata": {},
   "outputs": [],
   "source": [
    "df = pd.read_csv(r\"C:\\Users\\DELL\\Downloads\\Sales Analysis Report.csv\")"
   ]
  },
  {
   "cell_type": "code",
   "execution_count": 39,
   "id": "f3217b03-d74b-495f-aac5-5747b29273b5",
   "metadata": {},
   "outputs": [
    {
     "name": "stdout",
     "output_type": "stream",
     "text": [
      "Index(['OrderNumber', 'OrderDate', 'Ship Date', 'Customer Name Index',\n",
      "       'Channel', 'Currency Code', 'Warehouse Code', 'Delivery Region Index',\n",
      "       'Product Description Index', 'Order Quantity', 'Unit Price',\n",
      "       'Total Unit Cost', 'Total Revenue', 'Customer Index', 'Customer Names',\n",
      "       'Index', 'Suburb', 'City', 'postcode', 'Longitude', 'Latitude',\n",
      "       'Full Address', 'Index.1', 'Product Name'],\n",
      "      dtype='object')\n"
     ]
    }
   ],
   "source": [
    "print(df.columns)"
   ]
  },
  {
   "cell_type": "code",
   "execution_count": 41,
   "id": "e4a859f5-5617-4621-bef0-8b5fa7b68d0b",
   "metadata": {},
   "outputs": [],
   "source": [
    "import matplotlib.pyplot as plt"
   ]
  },
  {
   "cell_type": "code",
   "execution_count": 43,
   "id": "57b834bc-9768-4965-a966-00f146bd0f23",
   "metadata": {},
   "outputs": [
    {
     "data": {
      "image/png": "[encoded data removed]",
      "text/plain": [
       "<Figure size 640x480 with 1 Axes>"
      ]
     },
     "metadata": {},
     "output_type": "display_data"
    }
   ],
   "source": [
    "plt.hist( df[\"Delivery Region Index\"])\n",
    "plt.show()"
   ]
  },
  {
   "cell_type": "code",
   "execution_count": 45,
   "id": "bffca126-f591-4368-afcc-335a5aad1a24",
   "metadata": {},
   "outputs": [
    {
     "data": {
      "text/plain": [
       "(7991, 24)"
      ]
     },
     "execution_count": 45,
     "metadata": {},
     "output_type": "execute_result"
    }
   ],
   "source": [
    "df.shape"
   ]
  },
  {
   "cell_type": "code",
   "execution_count": 47,
   "id": "5b98dc8e-545a-4910-afb4-92f0ca58a074",
   "metadata": {},
   "outputs": [
    {
     "name": "stdout",
     "output_type": "stream",
     "text": [
      "OrderNumber                     0\n",
      "OrderDate                       0\n",
      "Ship Date                       0\n",
      "Customer Name Index             0\n",
      "Channel                         0\n",
      "Currency Code                   0\n",
      "Warehouse Code                  0\n",
      "Delivery Region Index           0\n",
      "Product Description Index       0\n",
      "Order Quantity                  0\n",
      "Unit Price                      0\n",
      "Total Unit Cost                 0\n",
      "Total Revenue                   0\n",
      "Customer Index               7941\n",
      "Customer Names               7941\n",
      "Index                        7891\n",
      "Suburb                       7891\n",
      "City                         7891\n",
      "postcode                     7891\n",
      "Longitude                    7891\n",
      "Latitude                     7891\n",
      "Full Address                 7891\n",
      "Index.1                      7976\n",
      "Product Name                 7976\n",
      "dtype: int64\n"
     ]
    }
   ],
   "source": [
    "missing_values_count = df.isnull().sum()\n",
    "print(missing_values_count)"
   ]
  },
  {
   "cell_type": "code",
   "execution_count": 49,
   "id": "93af693e-dbee-40ee-8b82-77b2837fd18f",
   "metadata": {},
   "outputs": [
    {
     "name": "stdout",
     "output_type": "stream",
     "text": [
      "<class 'pandas.core.frame.DataFrame'>\n",
      "RangeIndex: 7991 entries, 0 to 7990\n",
      "Data columns (total 24 columns):\n",
      " #   Column                     Non-Null Count  Dtype  \n",
      "---  ------                     --------------  -----  \n",
      " 0   OrderNumber                7991 non-null   object \n",
      " 1   OrderDate                  7991 non-null   object \n",
      " 2   Ship Date                  7991 non-null   object \n",
      " 3   Customer Name Index        7991 non-null   int64  \n",
      " 4   Channel                    7991 non-null   object \n",
      " 5   Currency Code              7991 non-null   object \n",
      " 6   Warehouse Code             7991 non-null   object \n",
      " 7   Delivery Region Index      7991 non-null   int64  \n",
      " 8   Product Description Index  7991 non-null   int64  \n",
      " 9   Order Quantity             7991 non-null   int64  \n",
      " 10  Unit Price                 7991 non-null   object \n",
      " 11  Total Unit Cost            7991 non-null   object \n",
      " 12  Total Revenue              7991 non-null   object \n",
      " 13  Customer Index             50 non-null     float64\n",
      " 14  Customer Names             50 non-null     object \n",
      " 15  Index                      100 non-null    float64\n",
      " 16  Suburb                     100 non-null    object \n",
      " 17  City                       100 non-null    object \n",
      " 18  postcode                   100 non-null    float64\n",
      " 19  Longitude                  100 non-null    float64\n",
      " 20  Latitude                   100 non-null    float64\n",
      " 21  Full Address               100 non-null    object \n",
      " 22  Index.1                    15 non-null     float64\n",
      " 23  Product Name               15 non-null     object \n",
      "dtypes: float64(6), int64(4), object(14)\n",
      "memory usage: 1.5+ MB\n"
     ]
    }
   ],
   "source": [
    "df.info()"
   ]
  },
  {
   "cell_type": "code",
   "execution_count": 51,
   "id": "8a82b510-c3ce-493c-afb3-cf4797194231",
   "metadata": {},
   "outputs": [
    {
     "name": "stdout",
     "output_type": "stream",
     "text": [
      "OrderNumber                     0\n",
      "OrderDate                       0\n",
      "Ship Date                       0\n",
      "Customer Name Index             0\n",
      "Channel                         0\n",
      "Currency Code                   0\n",
      "Warehouse Code                  0\n",
      "Delivery Region Index           0\n",
      "Product Description Index       0\n",
      "Order Quantity                  0\n",
      "Unit Price                      0\n",
      "Total Unit Cost                 0\n",
      "Total Revenue                   0\n",
      "Customer Index               7941\n",
      "Customer Names               7941\n",
      "Index                        7891\n",
      "Suburb                       7891\n",
      "City                         7891\n",
      "postcode                     7891\n",
      "Longitude                    7891\n",
      "Latitude                     7891\n",
      "Full Address                 7891\n",
      "Index.1                      7976\n",
      "Product Name                 7976\n",
      "dtype: int64\n",
      "(7991, 24)\n",
      "<class 'pandas.core.frame.DataFrame'>\n",
      "RangeIndex: 7991 entries, 0 to 7990\n",
      "Data columns (total 24 columns):\n",
      " #   Column                     Non-Null Count  Dtype  \n",
      "---  ------                     --------------  -----  \n",
      " 0   OrderNumber                7991 non-null   object \n",
      " 1   OrderDate                  7991 non-null   object \n",
      " 2   Ship Date                  7991 non-null   object \n",
      " 3   Customer Name Index        7991 non-null   int64  \n",
      " 4   Channel                    7991 non-null   object \n",
      " 5   Currency Code              7991 non-null   object \n",
      " 6   Warehouse Code             7991 non-null   object \n",
      " 7   Delivery Region Index      7991 non-null   int64  \n",
      " 8   Product Description Index  7991 non-null   int64  \n",
      " 9   Order Quantity             7991 non-null   int64  \n",
      " 10  Unit Price                 7991 non-null   object \n",
      " 11  Total Unit Cost            7991 non-null   object \n",
      " 12  Total Revenue              7991 non-null   object \n",
      " 13  Customer Index             50 non-null     float64\n",
      " 14  Customer Names             50 non-null     object \n",
      " 15  Index                      100 non-null    float64\n",
      " 16  Suburb                     100 non-null    object \n",
      " 17  City                       100 non-null    object \n",
      " 18  postcode                   100 non-null    float64\n",
      " 19  Longitude                  100 non-null    float64\n",
      " 20  Latitude                   100 non-null    float64\n",
      " 21  Full Address               100 non-null    object \n",
      " 22  Index.1                    15 non-null     float64\n",
      " 23  Product Name               15 non-null     object \n",
      "dtypes: float64(6), int64(4), object(14)\n",
      "memory usage: 1.5+ MB\n"
     ]
    }
   ],
   "source": [
    "missing_values_count = df.isnull().sum()\n",
    "print(missing_values_count)\n",
    "print(df.shape)\n",
    "df.info()"
   ]
  },
  {
   "cell_type": "code",
   "execution_count": 59,
   "id": "0440ff03-5d73-4aa6-9af6-878ba1081fac",
   "metadata": {},
   "outputs": [],
   "source": [
    "import seaborn as sns"
   ]
  },
  {
   "cell_type": "code",
   "execution_count": 69,
   "id": "a50bde51-4554-4600-88e3-0a43eed082b6",
   "metadata": {},
   "outputs": [
    {
     "data": {
      "text/plain": [
       "OrderNumber                  0\n",
       "OrderDate                    0\n",
       "Ship Date                    0\n",
       "Customer Name Index          0\n",
       "Channel                      0\n",
       "Currency Code                0\n",
       "Warehouse Code               0\n",
       "Delivery Region Index        0\n",
       "Product Description Index    0\n",
       "Order Quantity               0\n",
       "Unit Price                   0\n",
       "Total Unit Cost              0\n",
       "Total Revenue                0\n",
       "Customer Index               0\n",
       "Customer Names               0\n",
       "Index                        0\n",
       "Suburb                       0\n",
       "City                         0\n",
       "postcode                     0\n",
       "Longitude                    0\n",
       "Latitude                     0\n",
       "Full Address                 0\n",
       "Index.1                      0\n",
       "Product Name                 0\n",
       "dtype: int64"
      ]
     },
     "execution_count": 69,
     "metadata": {},
     "output_type": "execute_result"
    }
   ],
   "source": [
    "df.isnull().sum()"
   ]
  },
  {
   "cell_type": "code",
   "execution_count": 73,
   "id": "5128b205-8603-4ab1-a3f4-56fc633469b5",
   "metadata": {},
   "outputs": [
    {
     "data": {
      "text/plain": [
       "15"
      ]
     },
     "execution_count": 73,
     "metadata": {},
     "output_type": "execute_result"
    }
   ],
   "source": [
    "df.dropna(inplace=True)\n",
    "len(df)"
   ]
  },
  {
   "cell_type": "code",
   "execution_count": 77,
   "id": "ba62c93d-69c6-4be8-8757-25dc22a8cf4d",
   "metadata": {},
   "outputs": [
    {
     "data": {
      "image/png": "[encoded data removed]",
      "text/plain": [
       "<Figure size 640x480 with 1 Axes>"
      ]
     },
     "metadata": {},
     "output_type": "display_data"
    }
   ],
   "source": [
    "df['Delivery Region Index'] = np.log(df['Delivery Region Index'])\n",
    "sns.histplot(df['Delivery Region Index'])\n",
    "plt.show()\n"
   ]
  },
  {
   "cell_type": "code",
   "execution_count": 109,
   "id": "7f8f00fc-3d4c-4c71-ac5f-5f975e892043",
   "metadata": {},
   "outputs": [
    {
     "name": "stderr",
     "output_type": "stream",
     "text": [
      "C:\\Users\\DELL\\AppData\\Local\\Temp\\ipykernel_4980\\2330947810.py:2: UserWarning: \n",
      "\n",
      "`distplot` is a deprecated function and will be removed in seaborn v0.14.0.\n",
      "\n",
      "Please adapt your code to use either `displot` (a figure-level function with\n",
      "similar flexibility) or `histplot` (an axes-level function for histograms).\n",
      "\n",
      "For a guide to updating your code to use the new functions, please see\n",
      "https://gist.github.com/mwaskom/de44147ed2974457ad6372750bbe5751\n",
      "\n",
      "  sns.distplot(df['Customer Name Index'])\n"
     ]
    },
    {
     "data": {
      "image/png": "[encoded data removed]",
      "text/plain": [
       "<Figure size 640x480 with 1 Axes>"
      ]
     },
     "metadata": {},
     "output_type": "display_data"
    }
   ],
   "source": [
    "df['Customer Name Index'] = np.log(df['Customer Name Index'])\n",
    "sns.distplot(df['Customer Name Index'])\n",
    "plt.show()\n"
   ]
  },
  {
   "cell_type": "code",
   "execution_count": 81,
   "id": "8f128a60-9706-4e96-beaf-f869b27373a1",
   "metadata": {},
   "outputs": [
    {
     "data": {
      "text/html": [
       "<div>\n",
       "<style scoped>\n",
       "    .dataframe tbody tr th:only-of-type {\n",
       "        vertical-align: middle;\n",
       "    }\n",
       "\n",
       "    .dataframe tbody tr th {\n",
       "        vertical-align: top;\n",
       "    }\n",
       "\n",
       "    .dataframe thead th {\n",
       "        text-align: right;\n",
       "    }\n",
       "</style>\n",
       "<table border=\"1\" class=\"dataframe\">\n",
       "  <thead>\n",
       "    <tr style=\"text-align: right;\">\n",
       "      <th></th>\n",
       "      <th>OrderNumber</th>\n",
       "      <th>OrderDate</th>\n",
       "      <th>Ship Date</th>\n",
       "      <th>Customer Name Index</th>\n",
       "      <th>Channel</th>\n",
       "      <th>Currency Code</th>\n",
       "      <th>Warehouse Code</th>\n",
       "      <th>Delivery Region Index</th>\n",
       "      <th>Product Description Index</th>\n",
       "      <th>Order Quantity</th>\n",
       "      <th>...</th>\n",
       "      <th>Customer Names</th>\n",
       "      <th>Index</th>\n",
       "      <th>Suburb</th>\n",
       "      <th>City</th>\n",
       "      <th>postcode</th>\n",
       "      <th>Longitude</th>\n",
       "      <th>Latitude</th>\n",
       "      <th>Full Address</th>\n",
       "      <th>Index.1</th>\n",
       "      <th>Product Name</th>\n",
       "    </tr>\n",
       "  </thead>\n",
       "  <tbody>\n",
       "    <tr>\n",
       "      <th>0</th>\n",
       "      <td>SO - 000225</td>\n",
       "      <td>01-01-2017</td>\n",
       "      <td>13-01-2017</td>\n",
       "      <td>28</td>\n",
       "      <td>Wholesale</td>\n",
       "      <td>NZD</td>\n",
       "      <td>AXW291</td>\n",
       "      <td>1.449898</td>\n",
       "      <td>11</td>\n",
       "      <td>6</td>\n",
       "      <td>...</td>\n",
       "      <td>Avon Corp</td>\n",
       "      <td>1.0</td>\n",
       "      <td>Freemans Bay</td>\n",
       "      <td>Auckland</td>\n",
       "      <td>1011.0</td>\n",
       "      <td>174.748652</td>\n",
       "      <td>-36.855732</td>\n",
       "      <td>Picton Street, Freemans Bay, Auckland</td>\n",
       "      <td>1.0</td>\n",
       "      <td>Product 1</td>\n",
       "    </tr>\n",
       "    <tr>\n",
       "      <th>1</th>\n",
       "      <td>SO - 0003378</td>\n",
       "      <td>01-01-2017</td>\n",
       "      <td>06-01-2017</td>\n",
       "      <td>7</td>\n",
       "      <td>Distributor</td>\n",
       "      <td>NZD</td>\n",
       "      <td>AXW291</td>\n",
       "      <td>1.383537</td>\n",
       "      <td>7</td>\n",
       "      <td>11</td>\n",
       "      <td>...</td>\n",
       "      <td>WakeFern</td>\n",
       "      <td>2.0</td>\n",
       "      <td>Nightcaps</td>\n",
       "      <td>Southland</td>\n",
       "      <td>9630.0</td>\n",
       "      <td>168.028823</td>\n",
       "      <td>-45.970300</td>\n",
       "      <td>Lyne Street, Nightcaps, Southland</td>\n",
       "      <td>2.0</td>\n",
       "      <td>Product 2</td>\n",
       "    </tr>\n",
       "    <tr>\n",
       "      <th>2</th>\n",
       "      <td>SO - 0003901</td>\n",
       "      <td>01-01-2017</td>\n",
       "      <td>05-01-2017</td>\n",
       "      <td>12</td>\n",
       "      <td>Wholesale</td>\n",
       "      <td>NZD</td>\n",
       "      <td>AXW291</td>\n",
       "      <td>1.401292</td>\n",
       "      <td>13</td>\n",
       "      <td>5</td>\n",
       "      <td>...</td>\n",
       "      <td>Elorac, Corp</td>\n",
       "      <td>3.0</td>\n",
       "      <td>Northcote</td>\n",
       "      <td>North Shore</td>\n",
       "      <td>627.0</td>\n",
       "      <td>174.755505</td>\n",
       "      <td>-36.804712</td>\n",
       "      <td>McBreen Avenue, Northcote, North Shore</td>\n",
       "      <td>3.0</td>\n",
       "      <td>Product 3</td>\n",
       "    </tr>\n",
       "  </tbody>\n",
       "</table>\n",
       "<p>3 rows × 24 columns</p>\n",
       "</div>"
      ],
      "text/plain": [
       "    OrderNumber   OrderDate   Ship Date  Customer Name Index      Channel  \\\n",
       "0   SO - 000225  01-01-2017  13-01-2017                   28    Wholesale   \n",
       "1  SO - 0003378  01-01-2017  06-01-2017                    7  Distributor   \n",
       "2  SO - 0003901  01-01-2017  05-01-2017                   12    Wholesale   \n",
       "\n",
       "  Currency Code Warehouse Code  Delivery Region Index  \\\n",
       "0           NZD         AXW291               1.449898   \n",
       "1           NZD         AXW291               1.383537   \n",
       "2           NZD         AXW291               1.401292   \n",
       "\n",
       "   Product Description Index  Order Quantity  ... Customer Names Index  \\\n",
       "0                         11               6  ...      Avon Corp   1.0   \n",
       "1                          7              11  ...      WakeFern    2.0   \n",
       "2                         13               5  ...   Elorac, Corp   3.0   \n",
       "\n",
       "         Suburb         City postcode   Longitude   Latitude  \\\n",
       "0  Freemans Bay     Auckland   1011.0  174.748652 -36.855732   \n",
       "1     Nightcaps    Southland   9630.0  168.028823 -45.970300   \n",
       "2     Northcote  North Shore    627.0  174.755505 -36.804712   \n",
       "\n",
       "                             Full Address  Index.1  Product Name  \n",
       "0   Picton Street, Freemans Bay, Auckland      1.0     Product 1  \n",
       "1       Lyne Street, Nightcaps, Southland      2.0     Product 2  \n",
       "2  McBreen Avenue, Northcote, North Shore      3.0     Product 3  \n",
       "\n",
       "[3 rows x 24 columns]"
      ]
     },
     "execution_count": 81,
     "metadata": {},
     "output_type": "execute_result"
    }
   ],
   "source": [
    "df.head(3)"
   ]
  },
  {
   "cell_type": "code",
   "execution_count": 103,
   "id": "b7e9b536-3ed0-46db-9037-ea33fdfb5dca",
   "metadata": {},
   "outputs": [],
   "source": [
    "x=df[['Delivery Region Index' ,'Order Quantity','Customer Name Index']].corr()"
   ]
  },
  {
   "cell_type": "code",
   "execution_count": 105,
   "id": "7597c878-1e96-4f9c-a94b-2599c5c06dc7",
   "metadata": {},
   "outputs": [
    {
     "data": {
      "text/plain": [
       "<Axes: >"
      ]
     },
     "execution_count": 105,
     "metadata": {},
     "output_type": "execute_result"
    },
    {
     "data": {
      "image/png": "[encoded data removed]",
      "text/plain": [
       "<Figure size 640x480 with 2 Axes>"
      ]
     },
     "metadata": {},
     "output_type": "display_data"
    }
   ],
   "source": [
    "sns.heatmap(x, annot=True, cmap=\"YlGnBu\")"
   ]
  },
  {
   "cell_type": "code",
   "execution_count": null,
   "id": "db5cbde5-cc69-4e53-87aa-2693bb1acb94",
   "metadata": {},
   "outputs": [],
   "source": []
  },
  {
   "cell_type": "code",
   "execution_count": null,
   "id": "92217da9-59b4-4930-b045-e337a0938112",
   "metadata": {},
   "outputs": [],
   "source": []
  }
 ],
 "metadata": {
  "kernelspec": {
   "display_name": "Python 3 (ipykernel)",
   "language": "python",
   "name": "python3"
  },
  "language_info": {
   "codemirror_mode": {
    "name": "ipython",
    "version": 3
   },
   "file_extension": ".py",
   "mimetype": "text/x-python",
   "name": "python",
   "nbconvert_exporter": "python",
   "pygments_lexer": "ipython3",
   "version": "3.12.4"
  }
 },
 "nbformat": 4,
 "nbformat_minor": 5
}
